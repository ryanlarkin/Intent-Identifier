{
 "cells": [
  {
   "cell_type": "code",
   "execution_count": 33,
   "metadata": {},
   "outputs": [],
   "source": [
    "import platform\n",
    "import torch\n",
    "import pandas as pd\n",
    "from transformers import AlbertTokenizer, AlbertForSequenceClassification, AdamW\n",
    "from sklearn.model_selection import train_test_split\n",
    "\n",
    "\n",
    "# Load the Quora Question Pairs dataset\n",
    "# https://www.kaggle.com/c/quora-question-pairs/data\n",
    "\n",
    "df = pd.read_csv(\"train.csv\", keep_default_na=False)\n",
    "\n",
    "# Split the dataset into train and validation sets\n",
    "train_df, val_df = train_test_split(df, test_size=0.2, random_state=42)\n",
    "\n",
    "   \n",
    "\n",
    "\n",
    "if torch.cuda.is_available():\n",
    "    device_type = \"cuda\"\n",
    "elif torch.has_mps:\n",
    "    device_type = \"mps\"\n",
    "else:\n",
    "    device_type = \"cpu\"\n",
    "\n",
    "\n",
    "device = torch.device(device_type)"
   ]
  },
  {
   "cell_type": "code",
   "execution_count": 34,
   "metadata": {},
   "outputs": [],
   "source": [
    "q1s = train_df[\"question1\"].tolist()\n",
    "\n",
    "for i, q1 in enumerate(q1s):\n",
    "    if type(q1) != str:\n",
    "        print(train_df[\"id\"].values[i])\n",
    "        print(i, q1)"
   ]
  },
  {
   "cell_type": "code",
   "execution_count": 35,
   "metadata": {},
   "outputs": [],
   "source": [
    "# Load the tokenizer\n",
    "tokenizer = AlbertTokenizer.from_pretrained(\"albert-base-v2\")\n",
    "\n",
    "# Tokenize the questions and convert them to tensors\n",
    "train_encodings = tokenizer(list(train_df['question1'].values), list(train_df['question2'].values), truncation=True, padding=True)\n",
    "val_encodings = tokenizer(list(val_df['question1'].values), list(val_df['question2'].values), truncation=True, padding=True)\n",
    "\n",
    "train_dataset = torch.utils.data.TensorDataset(\n",
    "    torch.tensor(train_encodings[\"input_ids\"]), \n",
    "    torch.tensor(train_encodings[\"attention_mask\"]), \n",
    "    torch.tensor(list(train_df[\"is_duplicate\"]))\n",
    "    )\n",
    "\n",
    "val_dataset = torch.utils.data.TensorDataset(\n",
    "    torch.tensor(val_encodings[\"input_ids\"]),\n",
    "    torch.tensor(val_encodings[\"attention_mask\"]),\n",
    "    torch.tensor(list(val_df[\"is_duplicate\"]))\n",
    "    )\n"
   ]
  },
  {
   "cell_type": "code",
   "execution_count": 38,
   "metadata": {},
   "outputs": [
    {
     "name": "stderr",
     "output_type": "stream",
     "text": [
      "Downloading pytorch_model.bin: 100%|██████████| 47.4M/47.4M [00:00<00:00, 49.2MB/s]\n",
      "Some weights of the model checkpoint at albert-base-v2 were not used when initializing AlbertForSequenceClassification: ['predictions.dense.weight', 'predictions.LayerNorm.weight', 'predictions.decoder.bias', 'predictions.decoder.weight', 'predictions.bias', 'predictions.LayerNorm.bias', 'predictions.dense.bias']\n",
      "- This IS expected if you are initializing AlbertForSequenceClassification from the checkpoint of a model trained on another task or with another architecture (e.g. initializing a BertForSequenceClassification model from a BertForPreTraining model).\n",
      "- This IS NOT expected if you are initializing AlbertForSequenceClassification from the checkpoint of a model that you expect to be exactly identical (initializing a BertForSequenceClassification model from a BertForSequenceClassification model).\n",
      "Some weights of AlbertForSequenceClassification were not initialized from the model checkpoint at albert-base-v2 and are newly initialized: ['classifier.bias', 'classifier.weight']\n",
      "You should probably TRAIN this model on a down-stream task to be able to use it for predictions and inference.\n",
      "/Users/vraspar/Library/Python/3.9/lib/python/site-packages/transformers/optimization.py:391: FutureWarning: This implementation of AdamW is deprecated and will be removed in a future version. Use the PyTorch implementation torch.optim.AdamW instead, or set `no_deprecation_warning=True` to disable this warning\n",
      "  warnings.warn(\n"
     ]
    }
   ],
   "source": [
    "# Load the ALBERT model\n",
    "model = AlbertForSequenceClassification.from_pretrained(\"albert-base-v2\", num_labels=2)\n",
    "model.to(device)\n",
    "\n",
    "# Define the optimizer and the learning rate scheduler\n",
    "optimizer = AdamW(model.parameters(), lr=5e-5)\n",
    "scheduler = torch.optim.lr_scheduler.StepLR(optimizer, step_size=1, gamma=0.1)\n"
   ]
  },
  {
   "cell_type": "code",
   "execution_count": 36,
   "metadata": {},
   "outputs": [],
   "source": [
    "def train_loop(dataloader, optimizer):\n",
    "    model.train()\n",
    "    for batch in dataloader:\n",
    "        input_ids = batch[0].to(device)\n",
    "        attention_mask = batch[1].to(device)\n",
    "        labels = batch[2].to(device)\n",
    "\n",
    "        optimizer.zero_grad()\n",
    "        outputs = model(input_ids, attention_mask=attention_mask, labels=labels)\n",
    "        loss = outputs.loss\n",
    "        loss.backward()\n",
    "        optimizer.step()\n",
    "\n",
    "def eval_loop(dataloader):\n",
    "    model.eval()\n",
    "    total_correct = 0\n",
    "    total_samples = 0\n",
    "    for batch in dataloader:\n",
    "        input_ids = batch[0].to(device)\n",
    "        attention_mask = batch[1].to(device)\n",
    "        labels = batch[2].to(device)\n",
    "        \n",
    "        with torch.no_grad():\n",
    "            outputs = model(input_ids, attention_mask=attention_mask, labels=labels)\n",
    "            predictions = torch.argmax(outputs.logits, dim=1)\n",
    "            total_correct += torch.sum(predictions == labels)\n",
    "            total_samples += len(labels)\n",
    "    \n",
    "    # Return the accuracy\n",
    "    return total_correct / total_samples \n",
    "\n",
    "\n",
    "    "
   ]
  },
  {
   "cell_type": "code",
   "execution_count": 39,
   "metadata": {},
   "outputs": [],
   "source": [
    "# Train the model\n",
    "train_dataloader = torch.utils.data.DataLoader(train_dataset, batch_size=32, shuffle=True)\n",
    "val_dataloader = torch.utils.data.DataLoader(val_dataset, batch_size=32, shuffle=False)\n",
    "\n",
    "for epoch in range(3):\n",
    "   \n",
    "    train_loop(train_dataloader, optimizer)\n",
    "    scheduler.step()\n",
    "    accuracy = eval_loop(val_dataloader)\n",
    "    print(f\"Epoch {epoch+1} - Accuracy: {accuracy}\")\n",
    "\n",
    "# Save the model\n",
    "model.save_pretrained(\"albert-base-v2\")"
   ]
  }
 ],
 "metadata": {
  "kernelspec": {
   "display_name": "Python 3",
   "language": "python",
   "name": "python3"
  },
  "language_info": {
   "codemirror_mode": {
    "name": "ipython",
    "version": 3
   },
   "file_extension": ".py",
   "mimetype": "text/x-python",
   "name": "python",
   "nbconvert_exporter": "python",
   "pygments_lexer": "ipython3",
   "version": "3.9.6"
  },
  "orig_nbformat": 4
 },
 "nbformat": 4,
 "nbformat_minor": 2
}
